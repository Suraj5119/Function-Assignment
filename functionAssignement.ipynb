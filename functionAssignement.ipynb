{
 "cells": [
  {
   "cell_type": "markdown",
   "id": "88a47190-5dc4-4e71-aab8-9fdc7b959e98",
   "metadata": {},
   "source": [
    "Que1:-What is the difference between a function and a method in Python?\n",
    "Ans:-Function:\n",
    "        A function is a block of code that performs a specific task.\n",
    "        It is defined using the def keyword and can be called independently.\n",
    "        \n",
    "    Method:\n",
    "        A method is similar to a function, but it is associated with an object.\n",
    "        It is called on an instance of a class and is defined within the class.\n",
    "        Examples:"
   ]
  },
  {
   "cell_type": "code",
   "execution_count": 1,
   "id": "ff35cbc1-76d4-4bb0-925f-8e3142e69e2f",
   "metadata": {},
   "outputs": [
    {
     "data": {
      "text/plain": [
       "'Hello'"
      ]
     },
     "execution_count": 1,
     "metadata": {},
     "output_type": "execute_result"
    }
   ],
   "source": [
    "def greet():\n",
    "    return \"Hello\"\n",
    "greet()\n"
   ]
  },
  {
   "cell_type": "code",
   "execution_count": 2,
   "id": "ee117550-8678-466a-abc1-98b6a1300e8e",
   "metadata": {},
   "outputs": [
    {
     "data": {
      "text/plain": [
       "'Hello'"
      ]
     },
     "execution_count": 2,
     "metadata": {},
     "output_type": "execute_result"
    }
   ],
   "source": [
    "class Person:\n",
    "    def greet(self):\n",
    "        return \"Hello\"\n",
    "\n",
    "person = Person()\n",
    "person.greet()\n"
   ]
  },
  {
   "cell_type": "markdown",
   "id": "0d1c1be1-108b-4809-b0d9-565669ed3dcf",
   "metadata": {},
   "source": [
    "Que2:Explain the concept of function arguments and parameters in Python.\n",
    "Ans:-Parameters are the variables listed inside the parentheses in the function definition.\n",
    "     Arguments are the values passed to the function when it is called.\n",
    "    eg:-"
   ]
  },
  {
   "cell_type": "code",
   "execution_count": 3,
   "id": "4364f513-44c2-4f28-970f-1f14a565b6c8",
   "metadata": {},
   "outputs": [
    {
     "data": {
      "text/plain": [
       "8"
      ]
     },
     "execution_count": 3,
     "metadata": {},
     "output_type": "execute_result"
    }
   ],
   "source": [
    "def add(x, y):  # x and y are parameters\n",
    "    return x + y\n",
    "\n",
    "result = add(5, 3)  # 5 and 3 are arguments\n",
    "result\n"
   ]
  },
  {
   "cell_type": "code",
   "execution_count": 4,
   "id": "8a25c051-97da-4acf-af74-4ab3348aa41c",
   "metadata": {},
   "outputs": [],
   "source": [
    "# Que3:What are the different ways to define and call a function in Python?\n",
    "# Ans:-Define using def:\n",
    "def multiply(a, b):\n",
    "    return a * b\n"
   ]
  },
  {
   "cell_type": "code",
   "execution_count": 5,
   "id": "c139119f-d887-4a37-846d-6021191e88ba",
   "metadata": {},
   "outputs": [
    {
     "data": {
      "text/plain": [
       "20"
      ]
     },
     "execution_count": 5,
     "metadata": {},
     "output_type": "execute_result"
    }
   ],
   "source": [
    "# Call a function:\n",
    "result = multiply(4, 5)\n",
    "result  \n"
   ]
  },
  {
   "cell_type": "code",
   "execution_count": 6,
   "id": "4ee56de2-51e3-4190-87c8-3577997afec8",
   "metadata": {},
   "outputs": [
    {
     "data": {
      "text/plain": [
       "20"
      ]
     },
     "execution_count": 6,
     "metadata": {},
     "output_type": "execute_result"
    }
   ],
   "source": [
    "# Lambda function (anonymous function):\n",
    "multiply = lambda a, b: a * b\n",
    "multiply(4, 5)\n",
    "\n",
    "    "
   ]
  },
  {
   "cell_type": "code",
   "execution_count": 7,
   "id": "6dd23139-35bd-4e13-be6c-1249e1b60daf",
   "metadata": {},
   "outputs": [
    {
     "data": {
      "text/plain": [
       "36"
      ]
     },
     "execution_count": 7,
     "metadata": {},
     "output_type": "execute_result"
    }
   ],
   "source": [
    "# Que4:-What is the purpose of the `return` statement in a Python function?\n",
    "# Ans:The return statement is used to exit a function and send back a value to the caller.\n",
    "#      Example:\n",
    "def square(x):\n",
    "    return x * x\n",
    "\n",
    "result = square(6)\n",
    "result\n",
    "\n",
    "\n"
   ]
  },
  {
   "cell_type": "code",
   "execution_count": 8,
   "id": "850365c9-ca32-4701-be93-ba23e4081914",
   "metadata": {},
   "outputs": [
    {
     "data": {
      "text/plain": [
       "1"
      ]
     },
     "execution_count": 8,
     "metadata": {},
     "output_type": "execute_result"
    }
   ],
   "source": [
    "# Que5:- What are iterators in Python and how do they differ from iterables?\n",
    "# Ans:-Iterable: An object that can be iterated over (e.g., lists, tuples).\n",
    "#     Iterator: An object that represents a stream of data and is returned by calling the __iter__() and __next__() \n",
    "#     methods on an iterable.\n",
    "#    eg:-\n",
    "my_list = [1, 2, 3]\n",
    "iterator = iter(my_list)  # Get an iterator\n",
    "\n",
    "# next(iterator)  # Output: 1\n",
    "# next(iterator) # Output: 2\n",
    "next(iterator) \n"
   ]
  },
  {
   "cell_type": "code",
   "execution_count": 15,
   "id": "ce85e5c8-d622-4abd-a259-33e86eb52523",
   "metadata": {},
   "outputs": [
    {
     "name": "stdout",
     "output_type": "stream",
     "text": [
      "5\n",
      "4\n",
      "3\n",
      "2\n",
      "1\n"
     ]
    }
   ],
   "source": [
    "# Que6:-Explain the concept of generators in Python and how they are defined.\n",
    "# Ans:-Generators are a special type of iterator, defined using a function with the yield keyword.\n",
    "# Example:\n",
    "def countdown(n):\n",
    "    while n > 0:\n",
    "        yield n\n",
    "        n -= 1\n",
    "\n",
    "for number in countdown(5):\n",
    "    print(number)\n"
   ]
  },
  {
   "cell_type": "code",
   "execution_count": 16,
   "id": "502e5415-b78c-467f-9c5c-e7f8bab44e40",
   "metadata": {},
   "outputs": [],
   "source": [
    "# Que7:- What are the advantages of using generators over regular functions?\n",
    "# Ans:-Memory Efficiency: Generators yield items one at a time, using less memory.\n",
    "#     Lazy Evaluation: Values are generated only when needed.\n",
    "#     Example:\n",
    "def large_range():\n",
    "    for i in range(1000000):\n",
    "        yield i\n",
    "\n",
    "gen = large_range() \n"
   ]
  },
  {
   "cell_type": "code",
   "execution_count": 17,
   "id": "e6e7c85a-5a98-43b3-ab99-b8ad7b75213b",
   "metadata": {},
   "outputs": [
    {
     "data": {
      "text/plain": [
       "5"
      ]
     },
     "execution_count": 17,
     "metadata": {},
     "output_type": "execute_result"
    }
   ],
   "source": [
    "# Que8:. What is a lambda function in Python and when is it typically used?\n",
    "# Ans:-A lambda function is a small anonymous function defined using the lambda keyword. It is typically used for short,\n",
    "#     simple functions.\n",
    "#     Example:\n",
    "add = lambda x, y: x + y\n",
    "add(2, 3)\n"
   ]
  },
  {
   "cell_type": "code",
   "execution_count": 18,
   "id": "1fa60c1d-cf42-4d8e-b443-6f2d5806327b",
   "metadata": {},
   "outputs": [
    {
     "data": {
      "text/plain": [
       "[1, 4, 9, 16]"
      ]
     },
     "execution_count": 18,
     "metadata": {},
     "output_type": "execute_result"
    }
   ],
   "source": [
    "# Que9:-Explain the purpose and usage of the `map()` function in Python.\n",
    "# Ans:The map() function applies a given function to each item of an iterable and returns a map object.\n",
    "#     Example:\n",
    "def square(x):\n",
    "    return x * x\n",
    "\n",
    "numbers = [1, 2, 3, 4]\n",
    "squared_numbers = map(square, numbers)\n",
    "list(squared_numbers)  "
   ]
  },
  {
   "cell_type": "code",
   "execution_count": 19,
   "id": "b413f7e1-5fc6-4b56-ae8f-a915828f765e",
   "metadata": {},
   "outputs": [
    {
     "data": {
      "text/plain": [
       "[2, 4, 6]"
      ]
     },
     "execution_count": 19,
     "metadata": {},
     "output_type": "execute_result"
    }
   ],
   "source": [
    "# Que10:-What is the difference between `map()`, `reduce()`, and `filter()` functions in Python?\n",
    "# Ans:-map(): Applies a function to each item in an iterable.\n",
    "def double(x):\n",
    "    return x * 2\n",
    "\n",
    "numbers = [1, 2, 3]\n",
    "doubled = map(double, numbers)\n",
    "list(doubled)  \n"
   ]
  },
  {
   "cell_type": "code",
   "execution_count": 22,
   "id": "39a88c25-f467-444e-9da9-e67b87f0d811",
   "metadata": {},
   "outputs": [
    {
     "data": {
      "text/plain": [
       "6"
      ]
     },
     "execution_count": 22,
     "metadata": {},
     "output_type": "execute_result"
    }
   ],
   "source": [
    "# reduce(): Applies a function cumulatively to the items of an iterable, reducing it to a single value.\n",
    "from functools import reduce\n",
    "def add(x, y):\n",
    "    return x + y\n",
    "\n",
    "numbers = [1, 2, 3]\n",
    "total = reduce(add, numbers)\n",
    "total\n"
   ]
  },
  {
   "cell_type": "code",
   "execution_count": 23,
   "id": "2f2f7524-42ec-4920-956f-fb05ae827759",
   "metadata": {},
   "outputs": [
    {
     "data": {
      "text/plain": [
       "[2, 4]"
      ]
     },
     "execution_count": 23,
     "metadata": {},
     "output_type": "execute_result"
    }
   ],
   "source": [
    "# filter(): Filters items out of an iterable based on a function that returns True or False.\n",
    "def is_even(x):\n",
    "    return x % 2 == 0\n",
    "\n",
    "numbers = [1, 2, 3, 4]\n",
    "evens = filter(is_even, numbers)\n",
    "list(evens)\n"
   ]
  },
  {
   "cell_type": "code",
   "execution_count": null,
   "id": "f82c419a-744f-43e1-87bd-93c9ab9445dd",
   "metadata": {},
   "outputs": [],
   "source": [
    "# Que11:- Using pen & Paper write the internal mechanism for sum operation using  reduce function on this given\n",
    "#       list:[47,11,42,13]; \n",
    "Ans:-"
   ]
  },
  {
   "cell_type": "code",
   "execution_count": 24,
   "id": "236fe476-1adc-417a-a5b2-c0f9936cfa6d",
   "metadata": {},
   "outputs": [
    {
     "data": {
      "text/plain": [
       "12"
      ]
     },
     "execution_count": 24,
     "metadata": {},
     "output_type": "execute_result"
    }
   ],
   "source": [
    "# Practical Question:-\n",
    "# que1:Write a Python function that takes a list of numbers as input and returns the sum of all even numbers in\n",
    "#      the list.\n",
    "def sum_of_evens(numbers):\n",
    "    return sum(x for x in numbers if x % 2 == 0)\n",
    "\n",
    "numbers = [1, 2, 3, 4, 5, 6]\n",
    "sum_of_evens(numbers) \n"
   ]
  },
  {
   "cell_type": "code",
   "execution_count": 25,
   "id": "3e6a2a84-d056-4880-b98e-994c70681a6e",
   "metadata": {},
   "outputs": [
    {
     "data": {
      "text/plain": [
       "'olleh'"
      ]
     },
     "execution_count": 25,
     "metadata": {},
     "output_type": "execute_result"
    }
   ],
   "source": [
    "# que2:-Create a Python function that accepts a string and returns the reverse of that string.\n",
    "# ans:-\n",
    "def reverse_string(s):\n",
    "    return s[::-1]\n",
    "\n",
    "s = \"hello\"\n",
    "reverse_string(s) \n"
   ]
  },
  {
   "cell_type": "code",
   "execution_count": 26,
   "id": "5bef4e8f-f267-40aa-a629-d7492d5fffbc",
   "metadata": {},
   "outputs": [
    {
     "data": {
      "text/plain": [
       "[1, 4, 9, 16]"
      ]
     },
     "execution_count": 26,
     "metadata": {},
     "output_type": "execute_result"
    }
   ],
   "source": [
    "# que3: Implement a Python function that takes a list of integers and returns a new list containing the squares of\n",
    "#      each number.\n",
    "def square_list(numbers):\n",
    "    return [x ** 2 for x in numbers]\n",
    "\n",
    "numbers = [1, 2, 3, 4]\n",
    "square_list(numbers)  "
   ]
  },
  {
   "cell_type": "code",
   "execution_count": 27,
   "id": "c610ad7d-cfb6-44a5-8fb5-a24722cb5939",
   "metadata": {},
   "outputs": [
    {
     "data": {
      "text/plain": [
       "[2,\n",
       " 3,\n",
       " 5,\n",
       " 7,\n",
       " 11,\n",
       " 13,\n",
       " 17,\n",
       " 19,\n",
       " 23,\n",
       " 29,\n",
       " 31,\n",
       " 37,\n",
       " 41,\n",
       " 43,\n",
       " 47,\n",
       " 53,\n",
       " 59,\n",
       " 61,\n",
       " 67,\n",
       " 71,\n",
       " 73,\n",
       " 79,\n",
       " 83,\n",
       " 89,\n",
       " 97,\n",
       " 101,\n",
       " 103,\n",
       " 107,\n",
       " 109,\n",
       " 113,\n",
       " 127,\n",
       " 131,\n",
       " 137,\n",
       " 139,\n",
       " 149,\n",
       " 151,\n",
       " 157,\n",
       " 163,\n",
       " 167,\n",
       " 173,\n",
       " 179,\n",
       " 181,\n",
       " 191,\n",
       " 193,\n",
       " 197,\n",
       " 199]"
      ]
     },
     "execution_count": 27,
     "metadata": {},
     "output_type": "execute_result"
    }
   ],
   "source": [
    "# que4: Write a Python function that checks if a given number is prime or not from 1 to 200.\n",
    "# Ans: \n",
    "def is_prime(n):\n",
    "    if n <= 1:\n",
    "        return False\n",
    "    for i in range(2, int(n ** 0.5) + 1):\n",
    "        if n % i == 0:\n",
    "            return False\n",
    "    return True\n",
    "\n",
    "\n",
    "primes = [n for n in range(1, 201) if is_prime(n)]\n",
    "primes  \n"
   ]
  },
  {
   "cell_type": "code",
   "execution_count": 28,
   "id": "e79acf4d-77cb-46c1-b721-53e0e4fc67bc",
   "metadata": {},
   "outputs": [
    {
     "data": {
      "text/plain": [
       "[0, 1, 1, 2, 3, 5, 8, 13, 21, 34]"
      ]
     },
     "execution_count": 28,
     "metadata": {},
     "output_type": "execute_result"
    }
   ],
   "source": [
    "# Que5:-. Create an iterator class in Python that generates the Fibonacci sequence up to a specified number of\n",
    "# terms.\n",
    "# Ans\n",
    "class Fibonacci:\n",
    "    def __init__(self, terms):\n",
    "        self.terms = terms\n",
    "        self.current = 0\n",
    "        self.next = 1\n",
    "        self.count = 0\n",
    "\n",
    "    def __iter__(self):\n",
    "        return self\n",
    "\n",
    "    def __next__(self):\n",
    "        if self.count >= self.terms:\n",
    "            raise StopIteration\n",
    "        self.count += 1\n",
    "        fib = self.current\n",
    "        self.current, self.next = self.next, self.current + self.next\n",
    "        return fib\n",
    "\n",
    "fib_sequence = Fibonacci(10)\n",
    "list(fib_sequence) "
   ]
  },
  {
   "cell_type": "code",
   "execution_count": 29,
   "id": "a5639af1-7039-4ff1-ace8-2907f6b650d6",
   "metadata": {},
   "outputs": [
    {
     "data": {
      "text/plain": [
       "[1, 2, 4, 8, 16, 32]"
      ]
     },
     "execution_count": 29,
     "metadata": {},
     "output_type": "execute_result"
    }
   ],
   "source": [
    "# Que6:- Write a generator function in Python that yields the powers of 2 up to a given exponent\n",
    "# ans:\n",
    "def powers_of_two(max_exponent):\n",
    "    for n in range(max_exponent + 1):\n",
    "        yield 2 ** n\n",
    "list(powers_of_two(5))  # Output: [1, 2, 4, 8, 16, 32]\n"
   ]
  },
  {
   "cell_type": "code",
   "execution_count": 30,
   "id": "582ef3c7-62cb-475b-9799-60317a95f0fb",
   "metadata": {},
   "outputs": [],
   "source": [
    "# que7:-Implement a generator function that reads a file line by line and yields each line as a string.\n",
    "# ans:-\n",
    "def read_lines(file_path):\n",
    "    with open(file_path, 'r') as file:\n",
    "        for line in file:\n",
    "            yield line.strip()\n",
    "\n",
    "# Example usage:\n",
    "# Assuming you have a text file at 'file.txt'\n",
    "# list(read_lines('file.txt'))\n"
   ]
  },
  {
   "cell_type": "code",
   "execution_count": 31,
   "id": "082ed0f3-f868-456b-896b-d58481cd074c",
   "metadata": {},
   "outputs": [
    {
     "data": {
      "text/plain": [
       "[(5, 1), (4, 2), (1, 3)]"
      ]
     },
     "execution_count": 31,
     "metadata": {},
     "output_type": "execute_result"
    }
   ],
   "source": [
    "# que8:Use a lambda function in Python to sort a list of tuples based on the second element of each tuple.\n",
    "# ans:\n",
    "tuples_list = [(1, 3), (4, 2), (5, 1)]\n",
    "sorted_list = sorted(tuples_list, key=lambda x: x[1])\n",
    "sorted_list \n",
    "\n",
    "    "
   ]
  },
  {
   "cell_type": "code",
   "execution_count": 32,
   "id": "b162a627-3ce8-4684-9045-9ca775ab45e6",
   "metadata": {},
   "outputs": [
    {
     "data": {
      "text/plain": [
       "[32.0, 68.0, 212.0]"
      ]
     },
     "execution_count": 32,
     "metadata": {},
     "output_type": "execute_result"
    }
   ],
   "source": [
    "# que9:-Write a Python program that uses `map()` to convert a list of temperatures from Celsius to Fahrenheit.\n",
    "# ans\n",
    "def celsius_to_fahrenheit(c):\n",
    "    return (c * 9/5) + 32\n",
    "\n",
    "celsius_list = [0, 20, 100]\n",
    "fahrenheit_list = list(map(celsius_to_fahrenheit, celsius_list))\n",
    "fahrenheit_list \n"
   ]
  },
  {
   "cell_type": "code",
   "execution_count": 33,
   "id": "6dcae30b-c8ae-4973-8e0f-6939987dadae",
   "metadata": {},
   "outputs": [
    {
     "data": {
      "text/plain": [
       "'Hll Wrld'"
      ]
     },
     "execution_count": 33,
     "metadata": {},
     "output_type": "execute_result"
    }
   ],
   "source": [
    "# que10:- Create a Python program that uses `filter()` to remove all the vowels from a given string.\n",
    "# ans:-\n",
    "def remove_vowels(s):\n",
    "    return ''.join(filter(lambda x: x.lower() not in 'aeiou', s))\n",
    "\n",
    "text = \"Hello World\"\n",
    "filtered_text = remove_vowels(text)\n",
    "filtered_text  "
   ]
  },
  {
   "cell_type": "code",
   "execution_count": 34,
   "id": "c2f6646c-7697-4b9a-a5df-d0ba4a0f3d4b",
   "metadata": {},
   "outputs": [
    {
     "data": {
      "text/plain": [
       "[(34587, 163.8), (98762, 284.0), (77226, 108.85000000000001), (88112, 84.97)]"
      ]
     },
     "execution_count": 34,
     "metadata": {},
     "output_type": "execute_result"
    }
   ],
   "source": [
    "# Ans11: \n",
    "orders = [\n",
    "    [34587, \"Learning Python, Mark Lutz\", 4, 40.95],\n",
    "    [98762, \"Programming Python, Mark Lutz\", 5, 56.80],\n",
    "    [77226, \"Head First Python, Paul Barry\", 3, 32.95],\n",
    "    [88112, \"Einführung in Python3, Bernd Klein\", 3, 24.99]\n",
    "]\n",
    "\n",
    "# Using lambda and map\n",
    "order_totals = list(map(lambda x: (x[0], x[2] * x[3] if x[2] * x[3] >= 100 else x[2] * x[3] + 10), orders))\n",
    "\n",
    "order_totals\n"
   ]
  },
  {
   "cell_type": "code",
   "execution_count": null,
   "id": "1ca7c40b-1f3a-4a0f-a03b-a9218e9a14c3",
   "metadata": {},
   "outputs": [],
   "source": []
  }
 ],
 "metadata": {
  "kernelspec": {
   "display_name": "Python 3 (ipykernel)",
   "language": "python",
   "name": "python3"
  },
  "language_info": {
   "codemirror_mode": {
    "name": "ipython",
    "version": 3
   },
   "file_extension": ".py",
   "mimetype": "text/x-python",
   "name": "python",
   "nbconvert_exporter": "python",
   "pygments_lexer": "ipython3",
   "version": "3.10.8"
  }
 },
 "nbformat": 4,
 "nbformat_minor": 5
}
